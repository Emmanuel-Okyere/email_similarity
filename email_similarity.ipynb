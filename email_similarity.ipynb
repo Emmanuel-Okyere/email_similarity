{
 "cells": [
  {
   "cell_type": "code",
   "execution_count": 1,
   "id": "2598bcec",
   "metadata": {},
   "outputs": [],
   "source": [
    "from sklearn.datasets import fetch_20newsgroups\n",
    "from sklearn.naive_bayes import MultinomialNB\n",
    "from sklearn.feature_extraction.text import CountVectorizer"
   ]
  },
  {
   "cell_type": "code",
   "execution_count": 3,
   "id": "90374f97",
   "metadata": {},
   "outputs": [],
   "source": [
    "emails = fetch_20newsgroups()"
   ]
  },
  {
   "cell_type": "code",
   "execution_count": 4,
   "id": "b491ec47",
   "metadata": {},
   "outputs": [
    {
     "data": {
      "text/plain": [
       "['alt.atheism',\n",
       " 'comp.graphics',\n",
       " 'comp.os.ms-windows.misc',\n",
       " 'comp.sys.ibm.pc.hardware',\n",
       " 'comp.sys.mac.hardware',\n",
       " 'comp.windows.x',\n",
       " 'misc.forsale',\n",
       " 'rec.autos',\n",
       " 'rec.motorcycles',\n",
       " 'rec.sport.baseball',\n",
       " 'rec.sport.hockey',\n",
       " 'sci.crypt',\n",
       " 'sci.electronics',\n",
       " 'sci.med',\n",
       " 'sci.space',\n",
       " 'soc.religion.christian',\n",
       " 'talk.politics.guns',\n",
       " 'talk.politics.mideast',\n",
       " 'talk.politics.misc',\n",
       " 'talk.religion.misc']"
      ]
     },
     "execution_count": 4,
     "metadata": {},
     "output_type": "execute_result"
    }
   ],
   "source": [
    "emails.target_names"
   ]
  },
  {
   "cell_type": "code",
   "execution_count": 5,
   "id": "2ed56373",
   "metadata": {},
   "outputs": [
    {
     "data": {
      "text/plain": [
       "'From: smorris@venus.lerc.nasa.gov (Ron Morris )\\nSubject: Murray as GM  (was: Wings will win\\nOrganization: NASA Lewis Research Center\\nLines: 37\\nDistribution: world\\nNNTP-Posting-Host: venus.lerc.nasa.gov\\nNews-Software: VAX/VMS VNEWS 1.41    \\n\\nIn article <1993Apr19.204348.8254@sol.UVic.CA>, gballent@hudson.UVic.CA writes...\\n> \\n>In article 735249453@vela.acs.oakland.edu, ragraca@vela.acs.oakland.edu (Randy A. Graca) writes:\\n> \\n>>are predicting).  Although I think Bryan Murray is probably the best GM\\n>>I have ever seen in hockey\\n> \\n>How do you figure that??  When Bryan Murray took over the Wings they were\\n>a pretty good team that was contending for the Stanley Cup but looked\\n>unlikely to win it.  Now they are a pretty good team that is contending for\\n>the Stanley Cup but looks unlikely to win it.  A truly great GM would\\n>have been able to make the moves to push the team to the upper echelon\\n>of the NHL and maybe win the Stanley Cup.  A good GM (like Murray) can\\n\\nI think Murray has done a great job.  He\\'s picked up Ciccarelli,\\nSheppard, Ysebaert, Howe, Coffey, and Riendeau (plus some depth players) \\nwithout giving up anything the Wings needed or any of his top prospects.\\nAll of this in three years.  Has anyone done better?\\n\\nThe year before he took over, the Wings didn\\'t even make the playoffs.\\nThere was about a year and a half during Demers\\' stint that the Wings\\ndid OK, but that was due to Demers\\' motavational skills and clutch\\nand grab style.  They didn\\'t have much talent.\\n\\nGerald, Murray wasn\\'t responsible for Primeau (although I\\'m not\\nready to admit that\\'s a horrible pick).  They hired him after the\\ndraft (which has never made sense to me).  His first pick was\\nLapointe.\\n\\nRon \\n\\n**********\\n\"And one of my major goals is to leave the next president a new set\\nof things to worry about.  I\\'m getting bored reading the same problems\\nin the paper, decade after decade.  I want people to have to deal\\nwith new problems.\"\\n                    ... President Bill Clinton   2-4-93\\n'"
      ]
     },
     "execution_count": 5,
     "metadata": {},
     "output_type": "execute_result"
    }
   ],
   "source": [
    "emails = fetch_20newsgroups(categories = ['comp.sys.ibm.pc.hardware','rec.sport.hockey'])\n",
    "emails.data[5]"
   ]
  },
  {
   "cell_type": "code",
   "execution_count": 6,
   "id": "7dffff2d",
   "metadata": {},
   "outputs": [
    {
     "data": {
      "text/plain": [
       "1"
      ]
     },
     "execution_count": 6,
     "metadata": {},
     "output_type": "execute_result"
    }
   ],
   "source": [
    "emails.target[5]"
   ]
  },
  {
   "cell_type": "code",
   "execution_count": 7,
   "id": "f039db4e",
   "metadata": {},
   "outputs": [
    {
     "data": {
      "text/plain": [
       "['comp.sys.ibm.pc.hardware', 'rec.sport.hockey']"
      ]
     },
     "execution_count": 7,
     "metadata": {},
     "output_type": "execute_result"
    }
   ],
   "source": [
    "emails.target_names"
   ]
  },
  {
   "cell_type": "code",
   "execution_count": 8,
   "id": "f6a99a51",
   "metadata": {},
   "outputs": [],
   "source": [
    "train_emails = fetch_20newsgroups(subset=\"train\", shuffle=True, random_state = 108)\n",
    "test_emails = fetch_20newsgroups(subset=\"test\", shuffle=True, random_state = 108)\n"
   ]
  },
  {
   "cell_type": "code",
   "execution_count": 9,
   "id": "448bc819",
   "metadata": {},
   "outputs": [
    {
     "data": {
      "text/plain": [
       "CountVectorizer()"
      ]
     },
     "execution_count": 9,
     "metadata": {},
     "output_type": "execute_result"
    }
   ],
   "source": [
    "counter = CountVectorizer()\n",
    "counter.fit(test_emails.data + train_emails.data)"
   ]
  },
  {
   "cell_type": "code",
   "execution_count": 10,
   "id": "e90c71b2",
   "metadata": {},
   "outputs": [
    {
     "data": {
      "text/plain": [
       "MultinomialNB()"
      ]
     },
     "execution_count": 10,
     "metadata": {},
     "output_type": "execute_result"
    }
   ],
   "source": [
    "train_counts = counter.transform(train_emails.data)\n",
    "test_counts = counter.transform(test_emails.data)\n",
    "classifier = MultinomialNB()\n",
    "classifier.fit(train_counts,train_emails.target)"
   ]
  },
  {
   "cell_type": "code",
   "execution_count": 11,
   "id": "7faf7838",
   "metadata": {},
   "outputs": [
    {
     "name": "stdout",
     "output_type": "stream",
     "text": [
      "0.7626128518321826\n"
     ]
    }
   ],
   "source": [
    "print(classifier.score(test_counts,test_emails.target))"
   ]
  }
 ],
 "metadata": {
  "kernelspec": {
   "display_name": "Python 3 (ipykernel)",
   "language": "python",
   "name": "python3"
  },
  "language_info": {
   "codemirror_mode": {
    "name": "ipython",
    "version": 3
   },
   "file_extension": ".py",
   "mimetype": "text/x-python",
   "name": "python",
   "nbconvert_exporter": "python",
   "pygments_lexer": "ipython3",
   "version": "3.9.7"
  }
 },
 "nbformat": 4,
 "nbformat_minor": 5
}
